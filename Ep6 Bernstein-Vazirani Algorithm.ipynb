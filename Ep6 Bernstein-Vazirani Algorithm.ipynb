{
 "cells": [
  {
   "cell_type": "markdown",
   "metadata": {},
   "source": [
    "# Ep 6 Bernstein-Vazirani Alogrithm"
   ]
  },
  {
   "cell_type": "markdown",
   "metadata": {},
   "source": [
    "This is the episode 6 of Qiskit on Bernstein-Vazirani Algorithm. This algorithm helps us to obtain the binary nubmer with the minimum guess. Here is the trick, we have 3 options:\n",
    "\n",
    "Now we have 6 digits of binary number, say, 101001 (You can change what number as you like. I have changed 101001 to 1010 for demonstration.)\n",
    "\n",
    "Option 1:Trial and ask for the answer every time, then you have to guess 2^6 times, i.e., 64 times. In general, you need to guess 2^n trials.\n",
    "\n",
    "Option 2:Use classical computer operation AND, putting 1 at every single position of the digits, 0 or 1, and then compare them. If there are two 1s, the result will be 1, otherwise, it gives 0. So, the tactics is to find the 1 in every single position, when no 1 just left out 0. After that, you will get the exact binary number. You have 6 digits, so you need 6 operations. In general, you need to guess n trials.\n",
    "\n",
    "Option 3: Use quantum computer, and we only need one trial. \n",
    "\n",
    "So let's try!"
   ]
  },
  {
   "cell_type": "code",
   "execution_count": 1,
   "metadata": {},
   "outputs": [],
   "source": [
    "from qiskit import *"
   ]
  },
  {
   "cell_type": "code",
   "execution_count": 2,
   "metadata": {},
   "outputs": [],
   "source": [
    "%matplotlib inline"
   ]
  },
  {
   "cell_type": "code",
   "execution_count": 3,
   "metadata": {},
   "outputs": [],
   "source": [
    "from qiskit.tools.visualization import plot_histogram"
   ]
  },
  {
   "cell_type": "markdown",
   "metadata": {},
   "source": [
    "So that is our secret number for guessing."
   ]
  },
  {
   "cell_type": "code",
   "execution_count": 4,
   "metadata": {},
   "outputs": [],
   "source": [
    "secretnumber = '1010'"
   ]
  },
  {
   "cell_type": "markdown",
   "metadata": {},
   "source": [
    "Now let's build the circuit, we have 6 digits of numbers plus one qubit, so there are 7 qubits. And 6 classical bits on which we'll store results."
   ]
  },
  {
   "cell_type": "code",
   "execution_count": 5,
   "metadata": {},
   "outputs": [],
   "source": [
    "circuit = QuantumCircuit(len(secretnumber)+1, len(secretnumber))"
   ]
  },
  {
   "cell_type": "markdown",
   "metadata": {},
   "source": [
    "Hadamard gate on the first 6 digits. Write circuit.h([0,1,2,3,4,5])"
   ]
  },
  {
   "cell_type": "code",
   "execution_count": 6,
   "metadata": {},
   "outputs": [
    {
     "data": {
      "text/plain": [
       "<qiskit.circuit.instructionset.InstructionSet at 0x7f9d03e32610>"
      ]
     },
     "execution_count": 6,
     "metadata": {},
     "output_type": "execute_result"
    }
   ],
   "source": [
    "#circuit.h([0,1,2,3,4,5])\n",
    "circuit.h(range(len(secretnumber)))"
   ]
  },
  {
   "cell_type": "markdown",
   "metadata": {},
   "source": [
    "After drawing the circuit, we wiill apply X gate and then Hadarmard gate on the 6th qubits."
   ]
  },
  {
   "cell_type": "code",
   "execution_count": 7,
   "metadata": {},
   "outputs": [
    {
     "data": {
      "text/plain": [
       "<qiskit.circuit.instructionset.InstructionSet at 0x7f9d03e3b090>"
      ]
     },
     "execution_count": 7,
     "metadata": {},
     "output_type": "execute_result"
    }
   ],
   "source": [
    "#circuit.x(6)\n",
    "circuit.x(len(secretnumber))\n",
    "#circuit.h(6)\n",
    "circuit.h(len(secretnumber))"
   ]
  },
  {
   "cell_type": "markdown",
   "metadata": {},
   "source": [
    "Adding a vertical line barrier is for clearity."
   ]
  },
  {
   "cell_type": "code",
   "execution_count": 8,
   "metadata": {},
   "outputs": [
    {
     "data": {
      "text/plain": [
       "<qiskit.circuit.instructionset.InstructionSet at 0x7f9d03e32e10>"
      ]
     },
     "execution_count": 8,
     "metadata": {},
     "output_type": "execute_result"
    }
   ],
   "source": [
    "circuit.barrier()"
   ]
  },
  {
   "cell_type": "markdown",
   "metadata": {},
   "source": [
    "View below the description for this conditional operation."
   ]
  },
  {
   "cell_type": "code",
   "execution_count": 9,
   "metadata": {},
   "outputs": [],
   "source": [
    "for ii, yesno in enumerate(reversed(secretnumber)):\n",
    "\n",
    "    if yesno == '1':\n",
    "    \n",
    "        circuit.cx(ii, len(secretnumber))"
   ]
  },
  {
   "cell_type": "markdown",
   "metadata": {},
   "source": [
    "Next, we can build the box for the secret number. We apply CXgate on every single qubit. We apply on the last qubit we did not have the X on, up to that qubit that is the last qubit in the lines. Then we act on the position with digit 1. 101001 (5th,4th,3rd,2nd,1st,0th)"
   ]
  },
  {
   "cell_type": "code",
   "execution_count": 10,
   "metadata": {},
   "outputs": [],
   "source": [
    "#circuit.cx(5,6)\n",
    "#circuit.cx(3,6)\n",
    "#circuit.cx(0,6)"
   ]
  },
  {
   "cell_type": "markdown",
   "metadata": {},
   "source": [
    "We can see the secret number is encoded in the box by reading 1 when you see the controlled X gate. we can apply a barrier.  "
   ]
  },
  {
   "cell_type": "code",
   "execution_count": 11,
   "metadata": {},
   "outputs": [
    {
     "data": {
      "text/plain": [
       "<qiskit.circuit.instructionset.InstructionSet at 0x7f9d03e3be50>"
      ]
     },
     "execution_count": 11,
     "metadata": {},
     "output_type": "execute_result"
    }
   ],
   "source": [
    "circuit.barrier()"
   ]
  },
  {
   "cell_type": "markdown",
   "metadata": {},
   "source": [
    "Finally, a set of Hadarmard gates will be applied."
   ]
  },
  {
   "cell_type": "code",
   "execution_count": 12,
   "metadata": {
    "scrolled": true
   },
   "outputs": [
    {
     "data": {
      "text/plain": [
       "<qiskit.circuit.instructionset.InstructionSet at 0x7f9d03e46590>"
      ]
     },
     "execution_count": 12,
     "metadata": {},
     "output_type": "execute_result"
    }
   ],
   "source": [
    "#circuit.h([0,1,2,3,4,5])\n",
    "circuit.h(range(len(secretnumber)))"
   ]
  },
  {
   "cell_type": "markdown",
   "metadata": {},
   "source": [
    "We put another barrier."
   ]
  },
  {
   "cell_type": "code",
   "execution_count": 13,
   "metadata": {
    "scrolled": true
   },
   "outputs": [
    {
     "data": {
      "text/plain": [
       "<qiskit.circuit.instructionset.InstructionSet at 0x7f9d03e323d0>"
      ]
     },
     "execution_count": 13,
     "metadata": {},
     "output_type": "execute_result"
    }
   ],
   "source": [
    "circuit.barrier()"
   ]
  },
  {
   "cell_type": "markdown",
   "metadata": {},
   "source": [
    "Finally, here is our Bernstein-Vzarni Algorithm. We are going to add measurement at the end. We apply on the first 6 qubits, and then store the info on the corresponding classical bits."
   ]
  },
  {
   "cell_type": "code",
   "execution_count": 14,
   "metadata": {},
   "outputs": [
    {
     "data": {
      "text/plain": [
       "<qiskit.circuit.instructionset.InstructionSet at 0x7f9d03e2d2d0>"
      ]
     },
     "execution_count": 14,
     "metadata": {},
     "output_type": "execute_result"
    }
   ],
   "source": [
    "circuit.measure(range(len(secretnumber)), range(len(secretnumber)))"
   ]
  },
  {
   "cell_type": "code",
   "execution_count": 15,
   "metadata": {},
   "outputs": [
    {
     "data": {
      "image/png": "[encoded data removed]",
      "text/plain": [
       "<Figure size 900.592x385.28 with 1 Axes>"
      ]
     },
     "execution_count": 15,
     "metadata": {},
     "output_type": "execute_result"
    }
   ],
   "source": [
    "circuit.draw(output='mpl')"
   ]
  },
  {
   "cell_type": "markdown",
   "metadata": {},
   "source": [
    "We are done and we are going to simulate the circuit.\n",
    "\n",
    "We now use the simulator Aer.get_backend('qasm_simulator')\n",
    "We execute the circuit we have built. \n",
    "We chhose backend as the simulator\n",
    "We choose 1 shot as proimised. \n",
    "Finally, we take the result of the execution, store to the variable called result. \n",
    "Counts is result.get_counts"
   ]
  },
  {
   "cell_type": "code",
   "execution_count": 16,
   "metadata": {},
   "outputs": [
    {
     "name": "stdout",
     "output_type": "stream",
     "text": [
      "{'1010': 1}\n"
     ]
    }
   ],
   "source": [
    "simulator = Aer.get_backend('qasm_simulator')\n",
    "result = execute(circuit, backend = simulator, shots = 1).result()\n",
    "counts = result.get_counts()\n",
    "print(counts)"
   ]
  },
  {
   "cell_type": "markdown",
   "metadata": {},
   "source": [
    "Now, we try to generalize the problem that we can guess as many secret number as we want. So we use rnage(len(secretnumber)) as the argument. So the python will return exact the array for this particular secret number. \n",
    "\n",
    "After changing the parameter in the circuit gate, let's deal with the box. The box is encoded by the circuit CX gate whereever we saw a one in the secret number.\n",
    "\n",
    "for ii, yesno in enumerate(reveresed(secretnumber)):\n",
    "\n",
    "We need to reverse the order as we apply the gate from the bottommost qubit\n",
    "\n",
    "if the string contatins 1\n",
    "if yesno == '1';\n",
    "\n",
    "then we will apply CX gate going from the index of that qubit to the last qubit.\n",
    "    \n",
    "    circuit.cx(ii, len(secretnumber))\n",
    "    \n",
    "    \n",
    "The last thing is the generalize the length of the secret number.\n",
    "\n",
    "len(secretnumber)+1, len(secretnumber)"
   ]
  }
 ],
 "metadata": {
  "kernelspec": {
   "display_name": "Python 3",
   "language": "python",
   "name": "python3"
  },
  "language_info": {
   "codemirror_mode": {
    "name": "ipython",
    "version": 3
   },
   "file_extension": ".py",
   "mimetype": "text/x-python",
   "name": "python",
   "nbconvert_exporter": "python",
   "pygments_lexer": "ipython3",
   "version": "3.7.6"
  }
 },
 "nbformat": 4,
 "nbformat_minor": 4
}
