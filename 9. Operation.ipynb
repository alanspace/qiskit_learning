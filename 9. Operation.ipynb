{
 "cells": [
  {
   "cell_type": "markdown",
   "metadata": {},
   "source": [
    "Read the documentation:[Pauli operators](https://qiskit.org/documentation/stubs/qiskit.quantum_info.Pauli.html)\n",
    "\n"
   ]
  },
  {
   "cell_type": "code",
   "execution_count": 1,
   "metadata": {},
   "outputs": [
    {
     "name": "stdout",
     "output_type": "stream",
     "text": [
      "Collecting git+https://github.com/qiskit-community/qiskit-textbook.git#subdirectory=qiskit-textbook-src\n",
      "  Cloning https://github.com/qiskit-community/qiskit-textbook.git to /private/var/folders/8_/4ft2d3hn4x78_qp1dxhvkfkw0000gp/T/pip-req-build-jshta01h\n",
      "  Running command git clone -q https://github.com/qiskit-community/qiskit-textbook.git /private/var/folders/8_/4ft2d3hn4x78_qp1dxhvkfkw0000gp/T/pip-req-build-jshta01h\n",
      "Requirement already satisfied (use --upgrade to upgrade): qiskit-textbook==0.1.0 from git+https://github.com/qiskit-community/qiskit-textbook.git#subdirectory=qiskit-textbook-src in /opt/anaconda3/lib/python3.7/site-packages\n",
      "Requirement already satisfied: qiskit in /opt/anaconda3/lib/python3.7/site-packages (from qiskit-textbook==0.1.0) (0.19.6)\n",
      "Requirement already satisfied: ipython in /opt/anaconda3/lib/python3.7/site-packages (from qiskit-textbook==0.1.0) (7.17.0)\n",
      "Requirement already satisfied: ipywidgets in /opt/anaconda3/lib/python3.7/site-packages (from qiskit-textbook==0.1.0) (7.5.1)\n",
      "Requirement already satisfied: numpy in /opt/anaconda3/lib/python3.7/site-packages (from qiskit-textbook==0.1.0) (1.18.1)\n",
      "Requirement already satisfied: matplotlib in /opt/anaconda3/lib/python3.7/site-packages (from qiskit-textbook==0.1.0) (3.3.1)\n",
      "Requirement already satisfied: qiskit-aqua==0.7.3 in /opt/anaconda3/lib/python3.7/site-packages (from qiskit->qiskit-textbook==0.1.0) (0.7.3)\n",
      "Requirement already satisfied: qiskit-ignis==0.3.3 in /opt/anaconda3/lib/python3.7/site-packages (from qiskit->qiskit-textbook==0.1.0) (0.3.3)\n",
      "Requirement already satisfied: qiskit-ibmq-provider==0.7.2 in /opt/anaconda3/lib/python3.7/site-packages (from qiskit->qiskit-textbook==0.1.0) (0.7.2)\n",
      "Requirement already satisfied: qiskit-aer==0.5.2 in /opt/anaconda3/lib/python3.7/site-packages (from qiskit->qiskit-textbook==0.1.0) (0.5.2)\n",
      "Requirement already satisfied: qiskit-terra==0.14.2 in /opt/anaconda3/lib/python3.7/site-packages (from qiskit->qiskit-textbook==0.1.0) (0.14.2)\n",
      "Requirement already satisfied: jedi>=0.10 in /opt/anaconda3/lib/python3.7/site-packages (from ipython->qiskit-textbook==0.1.0) (0.14.1)\n",
      "Requirement already satisfied: prompt-toolkit!=3.0.0,!=3.0.1,<3.1.0,>=2.0.0 in /opt/anaconda3/lib/python3.7/site-packages (from ipython->qiskit-textbook==0.1.0) (3.0.3)\n",
      "Requirement already satisfied: setuptools>=18.5 in /opt/anaconda3/lib/python3.7/site-packages (from ipython->qiskit-textbook==0.1.0) (46.0.0.post20200309)\n",
      "Requirement already satisfied: appnope; sys_platform == \"darwin\" in /opt/anaconda3/lib/python3.7/site-packages (from ipython->qiskit-textbook==0.1.0) (0.1.0)\n",
      "Requirement already satisfied: backcall in /opt/anaconda3/lib/python3.7/site-packages (from ipython->qiskit-textbook==0.1.0) (0.1.0)\n",
      "Requirement already satisfied: pickleshare in /opt/anaconda3/lib/python3.7/site-packages (from ipython->qiskit-textbook==0.1.0) (0.7.5)\n",
      "Requirement already satisfied: decorator in /opt/anaconda3/lib/python3.7/site-packages (from ipython->qiskit-textbook==0.1.0) (4.4.1)\n",
      "Requirement already satisfied: traitlets>=4.2 in /opt/anaconda3/lib/python3.7/site-packages (from ipython->qiskit-textbook==0.1.0) (4.3.3)\n",
      "Requirement already satisfied: pexpect; sys_platform != \"win32\" in /opt/anaconda3/lib/python3.7/site-packages (from ipython->qiskit-textbook==0.1.0) (4.8.0)\n",
      "Requirement already satisfied: pygments in /opt/anaconda3/lib/python3.7/site-packages (from ipython->qiskit-textbook==0.1.0) (2.5.2)\n",
      "Requirement already satisfied: widgetsnbextension~=3.5.0 in /opt/anaconda3/lib/python3.7/site-packages (from ipywidgets->qiskit-textbook==0.1.0) (3.5.1)\n",
      "Requirement already satisfied: nbformat>=4.2.0 in /opt/anaconda3/lib/python3.7/site-packages (from ipywidgets->qiskit-textbook==0.1.0) (5.0.4)\n",
      "Requirement already satisfied: ipykernel>=4.5.1 in /opt/anaconda3/lib/python3.7/site-packages (from ipywidgets->qiskit-textbook==0.1.0) (5.1.4)\n",
      "Requirement already satisfied: certifi>=2020.06.20 in /opt/anaconda3/lib/python3.7/site-packages (from matplotlib->qiskit-textbook==0.1.0) (2020.6.20)\n",
      "Requirement already satisfied: pyparsing!=2.0.4,!=2.1.2,!=2.1.6,>=2.0.3 in /opt/anaconda3/lib/python3.7/site-packages (from matplotlib->qiskit-textbook==0.1.0) (2.4.6)\n",
      "Requirement already satisfied: python-dateutil>=2.1 in /opt/anaconda3/lib/python3.7/site-packages (from matplotlib->qiskit-textbook==0.1.0) (2.8.1)\n",
      "Requirement already satisfied: cycler>=0.10 in /opt/anaconda3/lib/python3.7/site-packages (from matplotlib->qiskit-textbook==0.1.0) (0.10.0)\n",
      "Requirement already satisfied: pillow>=6.2.0 in /opt/anaconda3/lib/python3.7/site-packages (from matplotlib->qiskit-textbook==0.1.0) (7.1.2)\n",
      "Requirement already satisfied: kiwisolver>=1.0.1 in /opt/anaconda3/lib/python3.7/site-packages (from matplotlib->qiskit-textbook==0.1.0) (1.1.0)\n",
      "Requirement already satisfied: scipy>=1.4 in /opt/anaconda3/lib/python3.7/site-packages (from qiskit-aqua==0.7.3->qiskit->qiskit-textbook==0.1.0) (1.4.1)\n",
      "Requirement already satisfied: scikit-learn>=0.20.0 in /opt/anaconda3/lib/python3.7/site-packages (from qiskit-aqua==0.7.3->qiskit->qiskit-textbook==0.1.0) (0.22.1)\n",
      "Requirement already satisfied: sympy>=1.3 in /opt/anaconda3/lib/python3.7/site-packages (from qiskit-aqua==0.7.3->qiskit->qiskit-textbook==0.1.0) (1.5.1)\n",
      "Requirement already satisfied: fastdtw in /opt/anaconda3/lib/python3.7/site-packages (from qiskit-aqua==0.7.3->qiskit->qiskit-textbook==0.1.0) (0.3.4)\n",
      "Requirement already satisfied: quandl in /opt/anaconda3/lib/python3.7/site-packages (from qiskit-aqua==0.7.3->qiskit->qiskit-textbook==0.1.0) (3.5.0)\n",
      "Requirement already satisfied: pyscf; sys_platform != \"win32\" in /opt/anaconda3/lib/python3.7/site-packages (from qiskit-aqua==0.7.3->qiskit->qiskit-textbook==0.1.0) (1.7.3)\n",
      "Requirement already satisfied: h5py in /opt/anaconda3/lib/python3.7/site-packages (from qiskit-aqua==0.7.3->qiskit->qiskit-textbook==0.1.0) (2.10.0)\n",
      "Requirement already satisfied: networkx>=2.2 in /opt/anaconda3/lib/python3.7/site-packages (from qiskit-aqua==0.7.3->qiskit->qiskit-textbook==0.1.0) (2.4)\n",
      "Requirement already satisfied: dlx in /opt/anaconda3/lib/python3.7/site-packages (from qiskit-aqua==0.7.3->qiskit->qiskit-textbook==0.1.0) (1.0.4)\n",
      "Requirement already satisfied: docplex in /opt/anaconda3/lib/python3.7/site-packages (from qiskit-aqua==0.7.3->qiskit->qiskit-textbook==0.1.0) (2.14.186)\n",
      "Requirement already satisfied: psutil>=5 in /opt/anaconda3/lib/python3.7/site-packages (from qiskit-aqua==0.7.3->qiskit->qiskit-textbook==0.1.0) (5.6.7)\n",
      "Requirement already satisfied: websockets<8,>=7 in /opt/anaconda3/lib/python3.7/site-packages (from qiskit-ibmq-provider==0.7.2->qiskit->qiskit-textbook==0.1.0) (7.0)\n",
      "Requirement already satisfied: urllib3>=1.21.1 in /opt/anaconda3/lib/python3.7/site-packages (from qiskit-ibmq-provider==0.7.2->qiskit->qiskit-textbook==0.1.0) (1.25.8)\n",
      "Requirement already satisfied: requests>=2.19 in /opt/anaconda3/lib/python3.7/site-packages (from qiskit-ibmq-provider==0.7.2->qiskit->qiskit-textbook==0.1.0) (2.22.0)\n",
      "Requirement already satisfied: requests-ntlm>=1.1.0 in /opt/anaconda3/lib/python3.7/site-packages (from qiskit-ibmq-provider==0.7.2->qiskit->qiskit-textbook==0.1.0) (1.1.0)\n",
      "Requirement already satisfied: nest-asyncio!=1.1.0,>=1.0.0 in /opt/anaconda3/lib/python3.7/site-packages (from qiskit-ibmq-provider==0.7.2->qiskit->qiskit-textbook==0.1.0) (1.3.3)\n",
      "Requirement already satisfied: pybind11>=2.4 in /opt/anaconda3/lib/python3.7/site-packages (from qiskit-aer==0.5.2->qiskit->qiskit-textbook==0.1.0) (2.5.0)\n",
      "Requirement already satisfied: cython>=0.27.1 in /opt/anaconda3/lib/python3.7/site-packages (from qiskit-aer==0.5.2->qiskit->qiskit-textbook==0.1.0) (0.29.15)\n",
      "Requirement already satisfied: dill>=0.3 in /opt/anaconda3/lib/python3.7/site-packages (from qiskit-terra==0.14.2->qiskit->qiskit-textbook==0.1.0) (0.3.1.1)\n",
      "Requirement already satisfied: fastjsonschema>=2.10 in /opt/anaconda3/lib/python3.7/site-packages (from qiskit-terra==0.14.2->qiskit->qiskit-textbook==0.1.0) (2.14.4)\n",
      "Requirement already satisfied: jsonschema>=2.6 in /opt/anaconda3/lib/python3.7/site-packages (from qiskit-terra==0.14.2->qiskit->qiskit-textbook==0.1.0) (3.2.0)\n",
      "Requirement already satisfied: marshmallow-polyfield<6,>=5.7 in /opt/anaconda3/lib/python3.7/site-packages (from qiskit-terra==0.14.2->qiskit->qiskit-textbook==0.1.0) (5.9)\n"
     ]
    },
    {
     "name": "stdout",
     "output_type": "stream",
     "text": [
      "Requirement already satisfied: marshmallow<4,>=3 in /opt/anaconda3/lib/python3.7/site-packages (from qiskit-terra==0.14.2->qiskit->qiskit-textbook==0.1.0) (3.6.1)\n",
      "Requirement already satisfied: ply>=3.10 in /opt/anaconda3/lib/python3.7/site-packages (from qiskit-terra==0.14.2->qiskit->qiskit-textbook==0.1.0) (3.11)\n",
      "Requirement already satisfied: python-constraint>=1.4 in /opt/anaconda3/lib/python3.7/site-packages (from qiskit-terra==0.14.2->qiskit->qiskit-textbook==0.1.0) (1.4.0)\n",
      "Requirement already satisfied: retworkx>=0.3.2 in /opt/anaconda3/lib/python3.7/site-packages (from qiskit-terra==0.14.2->qiskit->qiskit-textbook==0.1.0) (0.3.4)\n",
      "Requirement already satisfied: parso>=0.5.0 in /opt/anaconda3/lib/python3.7/site-packages (from jedi>=0.10->ipython->qiskit-textbook==0.1.0) (0.5.2)\n",
      "Requirement already satisfied: wcwidth in /opt/anaconda3/lib/python3.7/site-packages (from prompt-toolkit!=3.0.0,!=3.0.1,<3.1.0,>=2.0.0->ipython->qiskit-textbook==0.1.0) (0.1.8)\n",
      "Requirement already satisfied: ipython-genutils in /opt/anaconda3/lib/python3.7/site-packages (from traitlets>=4.2->ipython->qiskit-textbook==0.1.0) (0.2.0)\n",
      "Requirement already satisfied: six in /opt/anaconda3/lib/python3.7/site-packages (from traitlets>=4.2->ipython->qiskit-textbook==0.1.0) (1.14.0)\n",
      "Requirement already satisfied: ptyprocess>=0.5 in /opt/anaconda3/lib/python3.7/site-packages (from pexpect; sys_platform != \"win32\"->ipython->qiskit-textbook==0.1.0) (0.6.0)\n",
      "Requirement already satisfied: notebook>=4.4.1 in /opt/anaconda3/lib/python3.7/site-packages (from widgetsnbextension~=3.5.0->ipywidgets->qiskit-textbook==0.1.0) (6.0.3)\n",
      "Requirement already satisfied: jupyter-core in /opt/anaconda3/lib/python3.7/site-packages (from nbformat>=4.2.0->ipywidgets->qiskit-textbook==0.1.0) (4.6.1)\n",
      "Requirement already satisfied: tornado>=4.2 in /opt/anaconda3/lib/python3.7/site-packages (from ipykernel>=4.5.1->ipywidgets->qiskit-textbook==0.1.0) (6.0.3)\n",
      "Requirement already satisfied: jupyter-client in /opt/anaconda3/lib/python3.7/site-packages (from ipykernel>=4.5.1->ipywidgets->qiskit-textbook==0.1.0) (5.3.4)\n",
      "Requirement already satisfied: joblib>=0.11 in /opt/anaconda3/lib/python3.7/site-packages (from scikit-learn>=0.20.0->qiskit-aqua==0.7.3->qiskit->qiskit-textbook==0.1.0) (0.14.1)\n",
      "Requirement already satisfied: mpmath>=0.19 in /opt/anaconda3/lib/python3.7/site-packages (from sympy>=1.3->qiskit-aqua==0.7.3->qiskit->qiskit-textbook==0.1.0) (1.1.0)\n",
      "Requirement already satisfied: more-itertools in /opt/anaconda3/lib/python3.7/site-packages (from quandl->qiskit-aqua==0.7.3->qiskit->qiskit-textbook==0.1.0) (8.2.0)\n",
      "Requirement already satisfied: inflection>=0.3.1 in /opt/anaconda3/lib/python3.7/site-packages (from quandl->qiskit-aqua==0.7.3->qiskit->qiskit-textbook==0.1.0) (0.5.0)\n",
      "Requirement already satisfied: pandas>=0.14 in /opt/anaconda3/lib/python3.7/site-packages (from quandl->qiskit-aqua==0.7.3->qiskit->qiskit-textbook==0.1.0) (1.0.1)\n",
      "Requirement already satisfied: chardet<3.1.0,>=3.0.2 in /opt/anaconda3/lib/python3.7/site-packages (from requests>=2.19->qiskit-ibmq-provider==0.7.2->qiskit->qiskit-textbook==0.1.0) (3.0.4)\n",
      "Requirement already satisfied: idna<2.9,>=2.5 in /opt/anaconda3/lib/python3.7/site-packages (from requests>=2.19->qiskit-ibmq-provider==0.7.2->qiskit->qiskit-textbook==0.1.0) (2.8)\n",
      "Requirement already satisfied: ntlm-auth>=1.0.2 in /opt/anaconda3/lib/python3.7/site-packages (from requests-ntlm>=1.1.0->qiskit-ibmq-provider==0.7.2->qiskit->qiskit-textbook==0.1.0) (1.5.0)\n",
      "Requirement already satisfied: cryptography>=1.3 in /opt/anaconda3/lib/python3.7/site-packages (from requests-ntlm>=1.1.0->qiskit-ibmq-provider==0.7.2->qiskit->qiskit-textbook==0.1.0) (2.8)\n",
      "Requirement already satisfied: attrs>=17.4.0 in /opt/anaconda3/lib/python3.7/site-packages (from jsonschema>=2.6->qiskit-terra==0.14.2->qiskit->qiskit-textbook==0.1.0) (19.3.0)\n",
      "Requirement already satisfied: pyrsistent>=0.14.0 in /opt/anaconda3/lib/python3.7/site-packages (from jsonschema>=2.6->qiskit-terra==0.14.2->qiskit->qiskit-textbook==0.1.0) (0.15.7)\n",
      "Requirement already satisfied: importlib-metadata; python_version < \"3.8\" in /opt/anaconda3/lib/python3.7/site-packages (from jsonschema>=2.6->qiskit-terra==0.14.2->qiskit->qiskit-textbook==0.1.0) (1.5.0)\n",
      "Requirement already satisfied: terminado>=0.8.1 in /opt/anaconda3/lib/python3.7/site-packages (from notebook>=4.4.1->widgetsnbextension~=3.5.0->ipywidgets->qiskit-textbook==0.1.0) (0.8.3)\n",
      "Requirement already satisfied: nbconvert in /opt/anaconda3/lib/python3.7/site-packages (from notebook>=4.4.1->widgetsnbextension~=3.5.0->ipywidgets->qiskit-textbook==0.1.0) (5.6.1)\n",
      "Requirement already satisfied: jinja2 in /opt/anaconda3/lib/python3.7/site-packages (from notebook>=4.4.1->widgetsnbextension~=3.5.0->ipywidgets->qiskit-textbook==0.1.0) (2.11.1)\n",
      "Requirement already satisfied: prometheus-client in /opt/anaconda3/lib/python3.7/site-packages (from notebook>=4.4.1->widgetsnbextension~=3.5.0->ipywidgets->qiskit-textbook==0.1.0) (0.7.1)\n",
      "Requirement already satisfied: Send2Trash in /opt/anaconda3/lib/python3.7/site-packages (from notebook>=4.4.1->widgetsnbextension~=3.5.0->ipywidgets->qiskit-textbook==0.1.0) (1.5.0)\n",
      "Requirement already satisfied: pyzmq>=17 in /opt/anaconda3/lib/python3.7/site-packages (from notebook>=4.4.1->widgetsnbextension~=3.5.0->ipywidgets->qiskit-textbook==0.1.0) (18.1.1)\n",
      "Requirement already satisfied: pytz>=2017.2 in /opt/anaconda3/lib/python3.7/site-packages (from pandas>=0.14->quandl->qiskit-aqua==0.7.3->qiskit->qiskit-textbook==0.1.0) (2019.3)\n",
      "Requirement already satisfied: cffi!=1.11.3,>=1.8 in /opt/anaconda3/lib/python3.7/site-packages (from cryptography>=1.3->requests-ntlm>=1.1.0->qiskit-ibmq-provider==0.7.2->qiskit->qiskit-textbook==0.1.0) (1.14.0)\n",
      "Requirement already satisfied: zipp>=0.5 in /opt/anaconda3/lib/python3.7/site-packages (from importlib-metadata; python_version < \"3.8\"->jsonschema>=2.6->qiskit-terra==0.14.2->qiskit->qiskit-textbook==0.1.0) (2.2.0)\n",
      "Requirement already satisfied: pandocfilters>=1.4.1 in /opt/anaconda3/lib/python3.7/site-packages (from nbconvert->notebook>=4.4.1->widgetsnbextension~=3.5.0->ipywidgets->qiskit-textbook==0.1.0) (1.4.2)\n",
      "Requirement already satisfied: bleach in /opt/anaconda3/lib/python3.7/site-packages (from nbconvert->notebook>=4.4.1->widgetsnbextension~=3.5.0->ipywidgets->qiskit-textbook==0.1.0) (3.1.0)\n",
      "Requirement already satisfied: testpath in /opt/anaconda3/lib/python3.7/site-packages (from nbconvert->notebook>=4.4.1->widgetsnbextension~=3.5.0->ipywidgets->qiskit-textbook==0.1.0) (0.4.4)\n",
      "Requirement already satisfied: mistune<2,>=0.8.1 in /opt/anaconda3/lib/python3.7/site-packages (from nbconvert->notebook>=4.4.1->widgetsnbextension~=3.5.0->ipywidgets->qiskit-textbook==0.1.0) (0.8.4)\n",
      "Requirement already satisfied: entrypoints>=0.2.2 in /opt/anaconda3/lib/python3.7/site-packages (from nbconvert->notebook>=4.4.1->widgetsnbextension~=3.5.0->ipywidgets->qiskit-textbook==0.1.0) (0.3)\n",
      "Requirement already satisfied: defusedxml in /opt/anaconda3/lib/python3.7/site-packages (from nbconvert->notebook>=4.4.1->widgetsnbextension~=3.5.0->ipywidgets->qiskit-textbook==0.1.0) (0.6.0)\n",
      "Requirement already satisfied: MarkupSafe>=0.23 in /opt/anaconda3/lib/python3.7/site-packages (from jinja2->notebook>=4.4.1->widgetsnbextension~=3.5.0->ipywidgets->qiskit-textbook==0.1.0) (1.1.1)\n",
      "Requirement already satisfied: pycparser in /opt/anaconda3/lib/python3.7/site-packages (from cffi!=1.11.3,>=1.8->cryptography>=1.3->requests-ntlm>=1.1.0->qiskit-ibmq-provider==0.7.2->qiskit->qiskit-textbook==0.1.0) (2.19)\n",
      "Requirement already satisfied: webencodings in /opt/anaconda3/lib/python3.7/site-packages (from bleach->nbconvert->notebook>=4.4.1->widgetsnbextension~=3.5.0->ipywidgets->qiskit-textbook==0.1.0) (0.5.1)\n",
      "Building wheels for collected packages: qiskit-textbook\n",
      "  Building wheel for qiskit-textbook (setup.py) ... \u001b[?25ldone\n",
      "\u001b[?25h  Created wheel for qiskit-textbook: filename=qiskit_textbook-0.1.0-py3-none-any.whl size=16967 sha256=9baa8d22ace1e666d223885cf527e080aee9312262aca8b75f4978ba555111dd\n",
      "  Stored in directory: /private/var/folders/8_/4ft2d3hn4x78_qp1dxhvkfkw0000gp/T/pip-ephem-wheel-cache-b6hnjcl8/wheels/71/5a/d9/c90e2359a47893f51cf2ccd814aca4979bc32eb423b258aa25\n",
      "Successfully built qiskit-textbook\n"
     ]
    },
    {
     "name": "stdout",
     "output_type": "stream",
     "text": [
      "Note: you may need to restart the kernel to use updated packages.\n"
     ]
    }
   ],
   "source": [
    "pip install git+https://github.com/qiskit-community/qiskit-textbook.git#subdirectory=qiskit-textbook-src"
   ]
  },
  {
   "cell_type": "code",
   "execution_count": 2,
   "metadata": {},
   "outputs": [],
   "source": [
    "import numpy as np\n",
    "\n",
    "from qiskit import QuantumCircuit, ClassicalRegister, QuantumRegister\n",
    "from qiskit import execute, BasicAer\n",
    "from qiskit.compiler import transpile\n",
    "from qiskit.quantum_info.operators import Operator, Pauli\n",
    "from qiskit.quantum_info import process_fidelity\n",
    "\n",
    "from qiskit.extensions import RXGate, XGate, CXGate\n",
    "\n",
    "from qiskit_textbook.tools import array_to_latex"
   ]
  },
  {
   "cell_type": "markdown",
   "metadata": {},
   "source": [
    "By Convention, we read the order of the pauli label from n to 0.\n",
    "For the below operation, Pauli Z gate act on q_0 and Pauli X acts on q_1."
   ]
  },
  {
   "cell_type": "code",
   "execution_count": 3,
   "metadata": {
    "scrolled": true
   },
   "outputs": [
    {
     "data": {
      "text/latex": [
       "$\\displaystyle \n",
       "\\begin{bmatrix}\n",
       "0 & 0 & 1 & 0  \\\\\n",
       "0 & 0 & 0 & -1  \\\\\n",
       "1 & 0 & 0 & 0  \\\\\n",
       "0 & -1 & 0 & 0  \\\\\n",
       "\\end{bmatrix}\n",
       "$$\n",
       "$"
      ],
      "text/plain": [
       "<IPython.core.display.Math object>"
      ]
     },
     "metadata": {},
     "output_type": "display_data"
    }
   ],
   "source": [
    "a = Operator(Pauli(label='XZ'))\n",
    "array_to_latex(a.data)"
   ]
  },
  {
   "cell_type": "markdown",
   "metadata": {},
   "source": [
    "Simiarly, Pauli Z gates acts on the first qubit and then is tensored with the second qubit applied to X gate. So we will get the same result as above. "
   ]
  },
  {
   "cell_type": "code",
   "execution_count": 4,
   "metadata": {},
   "outputs": [
    {
     "data": {
      "text/latex": [
       "$\\displaystyle \n",
       "\\begin{bmatrix}\n",
       "0 & 0 & 1 & 0  \\\\\n",
       "0 & 0 & 0 & -1  \\\\\n",
       "1 & 0 & 0 & 0  \\\\\n",
       "0 & -1 & 0 & 0  \\\\\n",
       "\\end{bmatrix}\n",
       "$$\n",
       "$"
      ],
      "text/plain": [
       "<IPython.core.display.Math object>"
      ]
     },
     "metadata": {},
     "output_type": "display_data"
    }
   ],
   "source": [
    "b = Operator(Pauli(label='X')).tensor(Operator(Pauli(label='Z')))\n",
    "array_to_latex(b.data)"
   ]
  },
  {
   "cell_type": "markdown",
   "metadata": {},
   "source": [
    "While this one reverse the order of operation, so we'll get a different result."
   ]
  },
  {
   "cell_type": "code",
   "execution_count": 5,
   "metadata": {
    "scrolled": true
   },
   "outputs": [
    {
     "data": {
      "text/latex": [
       "$\\displaystyle \n",
       "\\begin{bmatrix}\n",
       "0 & 1 & 0 & 0  \\\\\n",
       "1 & 0 & 0 & 0  \\\\\n",
       "0 & 0 & 0 & -1  \\\\\n",
       "0 & 0 & -1 & 0  \\\\\n",
       "\\end{bmatrix}\n",
       "$$\n",
       "$"
      ],
      "text/plain": [
       "<IPython.core.display.Math object>"
      ]
     },
     "metadata": {},
     "output_type": "display_data"
    }
   ],
   "source": [
    "qc = QuantumCircuit(2)\n",
    "qc.x(0)\n",
    "qc.z(1)\n",
    "c = Operator(qc)\n",
    "array_to_latex(c.data)"
   ]
  },
  {
   "cell_type": "markdown",
   "metadata": {},
   "source": [
    "This is how we manipulate the operator. "
   ]
  },
  {
   "cell_type": "code",
   "execution_count": 6,
   "metadata": {},
   "outputs": [
    {
     "data": {
      "text/latex": [
       "$\\displaystyle \n",
       "\\begin{bmatrix}\n",
       "0 & 0 & 1 & 0  \\\\\n",
       "0 & 0 & 0 & -1  \\\\\n",
       "1 & 0 & 0 & 0  \\\\\n",
       "0 & -1 & 0 & 0  \\\\\n",
       "\\end{bmatrix}\n",
       "$$\n",
       "$"
      ],
      "text/plain": [
       "<IPython.core.display.Math object>"
      ]
     },
     "metadata": {},
     "output_type": "display_data"
    }
   ],
   "source": [
    "d = Operator([[0, 0, 1, 0], [0, 0, 0, -1], [1, 0, 0, 0], [0, -1, 0, 0]])\n",
    "array_to_latex(d.data)"
   ]
  }
 ],
 "metadata": {
  "kernelspec": {
   "display_name": "Python 3",
   "language": "python",
   "name": "python3"
  },
  "language_info": {
   "codemirror_mode": {
    "name": "ipython",
    "version": 3
   },
   "file_extension": ".py",
   "mimetype": "text/x-python",
   "name": "python",
   "nbconvert_exporter": "python",
   "pygments_lexer": "ipython3",
   "version": "3.7.6"
  }
 },
 "nbformat": 4,
 "nbformat_minor": 4
}
