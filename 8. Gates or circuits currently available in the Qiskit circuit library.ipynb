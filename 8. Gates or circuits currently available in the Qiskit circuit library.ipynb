{
 "cells": [
  {
   "cell_type": "markdown",
   "metadata": {},
   "source": [
    "We can search from the library\n",
    "https://qiskit.org/documentation/apidoc/circuit_library.html\n",
    "Here we cannot find NAND"
   ]
  },
  {
   "cell_type": "markdown",
   "metadata": {},
   "source": [
    "HGate is "
   ]
  },
  {
   "cell_type": "markdown",
   "metadata": {},
   "source": [
    "NAND is not "
   ]
  },
  {
   "cell_type": "markdown",
   "metadata": {},
   "source": [
    "QFT is "
   ]
  },
  {
   "cell_type": "markdown",
   "metadata": {},
   "source": [
    "QuantumVolume is "
   ]
  }
 ],
 "metadata": {
  "kernelspec": {
   "display_name": "Python 3",
   "language": "python",
   "name": "python3"
  },
  "language_info": {
   "codemirror_mode": {
    "name": "ipython",
    "version": 3
   },
   "file_extension": ".py",
   "mimetype": "text/x-python",
   "name": "python",
   "nbconvert_exporter": "python",
   "pygments_lexer": "ipython3",
   "version": "3.7.6"
  }
 },
 "nbformat": 4,
 "nbformat_minor": 4
}
